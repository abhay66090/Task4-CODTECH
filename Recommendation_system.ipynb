{
 "cells": [
  {
   "cell_type": "markdown",
   "metadata": {
    "id": "ZTKfGXI75gd6"
   },
   "source": [
    "# **Step 1:Mounting Drive**"
   ]
  },
  {
   "cell_type": "code",
   "execution_count": 1,
   "metadata": {
    "colab": {
     "base_uri": "https://localhost:8080/"
    },
    "id": "L-48Txkn3lom",
    "outputId": "1052e4fe-9ded-4256-9789-533d28416ea5"
   },
   "outputs": [
    {
     "name": "stdout",
     "output_type": "stream",
     "text": [
      "Mounted at /content/drive\n"
     ]
    }
   ],
   "source": [
    "\n",
    "from google.colab import drive\n",
    "drive.mount('/content/drive')\n"
   ]
  },
  {
   "cell_type": "markdown",
   "metadata": {
    "id": "YOQ52pao5N14"
   },
   "source": [
    "# **Step 2: Load and Preprocess the Data**\n",
    "First, we'll load the MovieLens dataset and preprocess it."
   ]
  },
  {
   "cell_type": "code",
   "execution_count": 2,
   "metadata": {
    "colab": {
     "base_uri": "https://localhost:8080/"
    },
    "id": "vj6Fu7bC38op",
    "outputId": "e3d3418b-775d-438c-bd0e-16dcb3845c20"
   },
   "outputs": [
    {
     "name": "stdout",
     "output_type": "stream",
     "text": [
      "   user_id  item_id  rating  timestamp         title\n",
      "0      196      242       3  881250949  Kolya (1996)\n",
      "1       63      242       3  875747190  Kolya (1996)\n",
      "2      226      242       5  883888671  Kolya (1996)\n",
      "3      154      242       3  879138235  Kolya (1996)\n",
      "4      306      242       5  876503793  Kolya (1996)\n"
     ]
    }
   ],
   "source": [
    "import pandas as pd\n",
    "\n",
    "# Load the dataset\n",
    "ratings = pd.read_csv('/content/drive/MyDrive/ml-100k/ml-100k/u.data', sep='\\t', names=['user_id', 'item_id', 'rating', 'timestamp'])\n",
    "movies = pd.read_csv('/content/drive/MyDrive/ml-100k/ml-100k/u.item', sep='|', encoding='latin-1', usecols=[0, 1], names=['item_id', 'title'])\n",
    "\n",
    "# Merge the datasets\n",
    "data = pd.merge(ratings, movies, on='item_id')\n",
    "\n",
    "# Display the first few rows\n",
    "print(data.head())\n"
   ]
  },
  {
   "cell_type": "markdown",
   "metadata": {
    "id": "AVwASG0Z53jZ"
   },
   "source": [
    "# **Step 3: Create User-Item Interaction Matrix**\n",
    "We create a matrix where each row represents a user, each column represents a movie, and the values are the ratings."
   ]
  },
  {
   "cell_type": "code",
   "execution_count": 3,
   "metadata": {
    "colab": {
     "base_uri": "https://localhost:8080/"
    },
    "id": "1FaJ4gaG4Ti0",
    "outputId": "47e67641-f097-40b0-d6bc-843760ba38ec"
   },
   "outputs": [
    {
     "name": "stdout",
     "output_type": "stream",
     "text": [
      "title    'Til There Was You (1997)  1-900 (1994)  101 Dalmatians (1996)  \\\n",
      "user_id                                                                   \n",
      "1                              0.0           0.0                    2.0   \n",
      "2                              0.0           0.0                    0.0   \n",
      "3                              0.0           0.0                    0.0   \n",
      "4                              0.0           0.0                    0.0   \n",
      "5                              0.0           0.0                    2.0   \n",
      "\n",
      "title    12 Angry Men (1957)  187 (1997)  2 Days in the Valley (1996)  \\\n",
      "user_id                                                                 \n",
      "1                        5.0         0.0                          0.0   \n",
      "2                        0.0         0.0                          0.0   \n",
      "3                        0.0         2.0                          0.0   \n",
      "4                        0.0         0.0                          0.0   \n",
      "5                        0.0         0.0                          0.0   \n",
      "\n",
      "title    20,000 Leagues Under the Sea (1954)  2001: A Space Odyssey (1968)  \\\n",
      "user_id                                                                      \n",
      "1                                        3.0                           4.0   \n",
      "2                                        0.0                           0.0   \n",
      "3                                        0.0                           0.0   \n",
      "4                                        0.0                           0.0   \n",
      "5                                        0.0                           4.0   \n",
      "\n",
      "title    3 Ninjas: High Noon At Mega Mountain (1998)  39 Steps, The (1935)  \\\n",
      "user_id                                                                      \n",
      "1                                                0.0                   0.0   \n",
      "2                                                1.0                   0.0   \n",
      "3                                                0.0                   0.0   \n",
      "4                                                0.0                   0.0   \n",
      "5                                                0.0                   0.0   \n",
      "\n",
      "title    ...  Yankee Zulu (1994)  Year of the Horse (1997)  \\\n",
      "user_id  ...                                                 \n",
      "1        ...                 0.0                       0.0   \n",
      "2        ...                 0.0                       0.0   \n",
      "3        ...                 0.0                       0.0   \n",
      "4        ...                 0.0                       0.0   \n",
      "5        ...                 0.0                       0.0   \n",
      "\n",
      "title    You So Crazy (1994)  Young Frankenstein (1974)  Young Guns (1988)  \\\n",
      "user_id                                                                      \n",
      "1                        0.0                        5.0                3.0   \n",
      "2                        0.0                        0.0                0.0   \n",
      "3                        0.0                        0.0                0.0   \n",
      "4                        0.0                        0.0                0.0   \n",
      "5                        0.0                        4.0                0.0   \n",
      "\n",
      "title    Young Guns II (1990)  Young Poisoner's Handbook, The (1995)  \\\n",
      "user_id                                                                \n",
      "1                         0.0                                    0.0   \n",
      "2                         0.0                                    0.0   \n",
      "3                         0.0                                    0.0   \n",
      "4                         0.0                                    0.0   \n",
      "5                         0.0                                    0.0   \n",
      "\n",
      "title    Zeus and Roxanne (1997)  unknown  Á köldum klaka (Cold Fever) (1994)  \n",
      "user_id                                                                        \n",
      "1                            0.0      4.0                                 0.0  \n",
      "2                            0.0      0.0                                 0.0  \n",
      "3                            0.0      0.0                                 0.0  \n",
      "4                            0.0      0.0                                 0.0  \n",
      "5                            0.0      4.0                                 0.0  \n",
      "\n",
      "[5 rows x 1664 columns]\n"
     ]
    }
   ],
   "source": [
    "# Create the user-item interaction matrix\n",
    "user_item_matrix = data.pivot_table(index='user_id', columns='title', values='rating').fillna(0)\n",
    "\n",
    "# Display the matrix\n",
    "print(user_item_matrix.head())\n"
   ]
  },
  {
   "cell_type": "markdown",
   "metadata": {
    "id": "dStVoEGX6CIu"
   },
   "source": [
    "# **Step 4: Convert the Matrix to a Sparse Matrix**\n",
    "For efficiency, we convert the user-item interaction matrix to a sparse matrix."
   ]
  },
  {
   "cell_type": "code",
   "execution_count": 4,
   "metadata": {
    "id": "XvArLtex4Yte"
   },
   "outputs": [],
   "source": [
    "from scipy.sparse import csr_matrix\n",
    "\n",
    "# Convert the user-item matrix to a sparse matrix\n",
    "user_item_sparse = csr_matrix(user_item_matrix.values)\n"
   ]
  },
  {
   "cell_type": "markdown",
   "metadata": {
    "id": "2ccwFltb6K9-"
   },
   "source": [
    "# **Step 5: Calculate User Similarities**\n",
    "We use cosine similarity to calculate the similarity between users."
   ]
  },
  {
   "cell_type": "code",
   "execution_count": 5,
   "metadata": {
    "id": "m4vjyTKd4ese"
   },
   "outputs": [],
   "source": [
    "from sklearn.metrics.pairwise import cosine_similarity\n",
    "\n",
    "# Calculate the cosine similarity between users\n",
    "user_similarity = cosine_similarity(user_item_sparse)\n"
   ]
  },
  {
   "cell_type": "markdown",
   "metadata": {
    "id": "P8Y5Up7v6STT"
   },
   "source": [
    "# **Step 6: Generate Movie Recommendations**\n",
    "We define a function to generate movie recommendations for a given user based on the ratings of similar users."
   ]
  },
  {
   "cell_type": "code",
   "execution_count": 6,
   "metadata": {
    "id": "sOfMsGpy4irn"
   },
   "outputs": [],
   "source": [
    "import numpy as np\n",
    "\n",
    "def get_recommendations(user_id, num_recommendations=5):\n",
    "    # Get the user's ratings\n",
    "    user_ratings = user_item_matrix.loc[user_id]\n",
    "\n",
    "    # Get the similarity scores for the user\n",
    "    user_similarities = user_similarity[user_id - 1]\n",
    "\n",
    "    # Calculate the weighted sum of ratings from similar users\n",
    "    weighted_ratings = np.dot(user_similarities, user_item_matrix.values) / np.array([np.abs(user_similarities).sum(axis=0)])\n",
    "\n",
    "    # Create a DataFrame with the weighted ratings\n",
    "    weighted_ratings_df = pd.DataFrame(weighted_ratings, index=user_item_matrix.columns, columns=['rating'])\n",
    "\n",
    "    # Filter out movies the user has already rated\n",
    "    unrated_movies = weighted_ratings_df[~user_ratings.astype(bool)]\n",
    "\n",
    "    # Get the top N recommendations\n",
    "    recommendations = unrated_movies.sort_values('rating', ascending=False).head(num_recommendations)\n",
    "\n",
    "    return recommendations.index.tolist()\n"
   ]
  },
  {
   "cell_type": "markdown",
   "metadata": {
    "id": "n1DTtW116c47"
   },
   "source": [
    "# **Step 7: Get Recommendations for a Specific User**\n",
    "We use the get_recommendations function to get movie recommendations for a specific user."
   ]
  },
  {
   "cell_type": "code",
   "execution_count": 7,
   "metadata": {
    "colab": {
     "base_uri": "https://localhost:8080/"
    },
    "id": "2qJjin5Y4pAc",
    "outputId": "d69def5b-383d-4bb0-d4d1-972dd4efe162"
   },
   "outputs": [
    {
     "name": "stdout",
     "output_type": "stream",
     "text": [
      "Recommendations for User 1: [\"Schindler's List (1993)\", 'E.T. the Extra-Terrestrial (1982)', \"One Flew Over the Cuckoo's Nest (1975)\", 'English Patient, The (1996)', 'Scream (1996)']\n"
     ]
    }
   ],
   "source": [
    "# Get movie recommendations for a specific user\n",
    "user_id = 1\n",
    "recommendations = get_recommendations(user_id)\n",
    "print(f\"Recommendations for User {user_id}: {recommendations}\")\n"
   ]
  },
  {
   "cell_type": "code",
   "execution_count": 8,
   "metadata": {
    "colab": {
     "base_uri": "https://localhost:8080/"
    },
    "id": "5W1at3Ua4ryz",
    "outputId": "48ebd0a0-78d7-4102-f094-84439c625161"
   },
   "outputs": [
    {
     "name": "stdout",
     "output_type": "stream",
     "text": [
      "Recommendations for User 7: ['Toy Story (1995)', 'Star Trek: First Contact (1996)', 'Rock, The (1996)', 'Aladdin (1992)', 'Titanic (1997)']\n"
     ]
    }
   ],
   "source": [
    "# Get movie recommendations for a specific user\n",
    "user_id = 7\n",
    "recommendations = get_recommendations(user_id)\n",
    "print(f\"Recommendations for User {user_id}: {recommendations}\")\n"
   ]
  },
  {
   "cell_type": "code",
   "execution_count": 9,
   "metadata": {
    "colab": {
     "base_uri": "https://localhost:8080/"
    },
    "id": "PWIPjD4m4u4g",
    "outputId": "e71dd733-853f-4df5-e94e-2b7cf9b89cc2"
   },
   "outputs": [
    {
     "name": "stdout",
     "output_type": "stream",
     "text": [
      "Recommendations for User 77: ['Back to the Future (1985)', 'Fugitive, The (1993)', 'Twelve Monkeys (1995)', \"Schindler's List (1993)\", 'Shawshank Redemption, The (1994)']\n"
     ]
    }
   ],
   "source": [
    "# Get movie recommendations for a specific user\n",
    "user_id = 77\n",
    "recommendations = get_recommendations(user_id)\n",
    "print(f\"Recommendations for User {user_id}: {recommendations}\")\n"
   ]
  }
 ],
 "metadata": {
  "colab": {
   "provenance": []
  },
  "kernelspec": {
   "display_name": "Python 3 (ipykernel)",
   "language": "python",
   "name": "python3"
  },
  "language_info": {
   "codemirror_mode": {
    "name": "ipython",
    "version": 3
   },
   "file_extension": ".py",
   "mimetype": "text/x-python",
   "name": "python",
   "nbconvert_exporter": "python",
   "pygments_lexer": "ipython3",
   "version": "3.12.6"
  }
 },
 "nbformat": 4,
 "nbformat_minor": 4
}
